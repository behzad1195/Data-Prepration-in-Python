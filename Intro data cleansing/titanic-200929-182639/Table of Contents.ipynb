{
 "cells": [
  {
   "cell_type": "markdown",
   "metadata": {},
   "source": [
    "### 1. Pandas Dataframe Basics -> Pandas DF Basics.ipynb \n",
    "    #### 1.1 The Shape of Data\n",
    "    #### 1.2 Subsetting \n",
    "    #### 1.3 Using loc and iloc\n",
    "    #### 1.4 iloc Rows and Columns\n",
    "    #### 1.5 Slicing Dataframes\n",
    "    #### 1.6 The Groupby Function\n",
    "### 2. Pandas Data Structure -> Pandas Data Structure.ipynb\n",
    "    #### 2.1 The Series Object\n",
    "    #### 2.2 Series Anatomy\n",
    "    #### 2.3 Attributes\n",
    "    #### 2.4 Series and ndarray Similarity\n",
    "    #### 2.5 Boolean Subsetting in a Series\n",
    "    #### 2.6 Vectorized Operations\n",
    "    #### 2.7 The Replace Function\n",
    "    #### 2.8 Change Column Header Names\n",
    "    #### 2.9 Sorting in a Dataframe\n",
    "    #### 2.10 Regular Expression\n",
    "    #### 2.11 Binning (pd.cut)\n",
    "    #### 2.12 Data Normalization\n",
    "### 3. Data Assembly -> Data Asembly.ipynb\n",
    "    #### 3.1 Concatenation\n",
    "    #### 3.2 Row Concatenation\n",
    "    #### 3.3 The Merge Join\n",
    "    #### 3.4 The Joins\n",
    "    #### 3.5 Using the Merge Function\n",
    "### 4. Missing Data -> Missing Data.ipynb\n",
    "    #### 4.1 Missing Data\n",
    "    #### 4.2 Finding the NANs\n",
    "    #### 4.3 Filling Index Values\n",
    "    #### 4.5 NAN Value Differences\n",
    "    #### 4.6 Changing Cell Values\n",
    "    #### 4.7 Interpolation\n",
    "    #### 4.8 Handling Duplicates\n",
    "    #### 4.9 Mappings\n",
    "    #### 4.10 Create a Column with a Function\n",
    "    #### 4.11 Replace\n",
    "    #### 4.12 Duplicate Data\n",
    "### 5. Time Series Data ->Time Series Data.ipynb\n",
    "    #### 5.1 Time Series\n",
    "    #### 5.2 The Time Stamp Object\n",
    "    #### 5.3 The Time Delta Object\n",
    "    #### 5.4 The Date Time Index\n",
    "    #### 5.5 Force a Data Conversion\n",
    "    #### 5.6 The Frequency Parameters\n",
    "    #### 5.7 Data Offsets\n",
    "    #### 5.8 Anchored Offsets\n",
    "    #### 5.9 Period Objects\n",
    "\n"
   ]
  },
  {
   "cell_type": "code",
   "execution_count": null,
   "metadata": {},
   "outputs": [],
   "source": []
  }
 ],
 "metadata": {
  "kernelspec": {
   "display_name": "Python 3",
   "language": "python",
   "name": "python3"
  },
  "language_info": {
   "codemirror_mode": {
    "name": "ipython",
    "version": 3
   },
   "file_extension": ".py",
   "mimetype": "text/x-python",
   "name": "python",
   "nbconvert_exporter": "python",
   "pygments_lexer": "ipython3",
   "version": "3.8.5"
  }
 },
 "nbformat": 4,
 "nbformat_minor": 4
}
