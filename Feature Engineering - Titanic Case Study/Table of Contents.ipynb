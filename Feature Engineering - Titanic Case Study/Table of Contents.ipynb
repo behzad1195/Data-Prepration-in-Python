{
 "cells": [
  {
   "cell_type": "markdown",
   "id": "b6744ebd",
   "metadata": {},
   "source": [
    "### Titanic Project \n",
    " * Here mostly the all steps from loading a dataset up to the execution of models are applied in a sequence which is kind of ML procedure standard and is practiced by majority of data scientist/ML engineers. Nothing new but I thought it wouldn't be a bad idea to write them here in steps. \n",
    "     - For general notes -> Feature Engineering (Notes).ipynb\n",
    " * 1. Loading and first glance on data -> Titanic Dataset - loading and first glance on data.ipynb\n",
    " * 2. Exploring numerical data -> Titanic - Explore Continuous Features.ipynb\n",
    " * 3. Plotting numerical data -> Titanic - Plotting.ipynb\n",
    " * 4. Exploring categorical data -> Titanic - Explore categorical Features.ipynb\n",
    " * 5. Plotting categorical data -> Titanic-PlotCategoricalFeatures.ipynb\n",
    " * 6. Crafting and cleansing Features \n",
    "     + 6.1 Treat Missing Values in the Data -> Titanic-MeanValueImputation.ipynb\n",
    "     + 6.2 Outlier Detection -> Titanic - RemoveOutliers.ipynb\n",
    "     + 6.3 Transforming Skewed Features -> Titanic-TransformingSkewedFeatures.ipynb\n",
    "     + 6.4 Craft New Features from Text -> Titanic - CraftNewFeaturesfromText.ipynb\n",
    "     + 6.5 Create new feature -> Titanic - CreatingIndicators.ipynb\n",
    "     + 6.6 Combining existing features into a new one -> Titanic - CombineExistingFeaturesIntoaNewFeatuer.ipynb\n",
    "     + 6.7 Transforming categorical features to numerical -> Titanic - CategoricalFeaturestoNumeric.ipynb\n",
    "* 7. Train/test split -> Titanic - CreateTrainingandTestingSets.ipynb\n",
    "    + Well it seems that there is no consensus among Data scientist that where exactly we should do the train/test split. But personally think that where ever that our Data cleansing,Feature engineering, and Feature selection techniques may lead to the Data Leakage then we should do those steps after trian/test split. Where Data Leakage happens? good question! I don't know, I think it somehow depends to our personal judgement but I would say if you are not sure then do some googleing. \n",
    "* 8. Scaling features -> Titanic - ScalingFeatures.ipynb\n",
    "* 9. Create Datasets for Modeling -> Titanic - CreateFinalDatasets.ipynb\n",
    "* 10. Baseline Model -> Titanic - ModelRawFeatures.ipynb\n",
    "* 11. Model with cleaned but original features -> Titanic - BuildModelwithCleanedOriginalFeatures.ipynb\n",
    "* 12. Model with all features -> Titanic - ModelAllFeatures.ipynb\n",
    "* 13. Model with reduced set of features -> Titanic - ModelReducedSetofFeatures.ipynb\n",
    "* 14. Evaluate and compare all models -> Titanic - CompareandEvaluateAllModels.ipynb\n",
    "     "
   ]
  },
  {
   "cell_type": "code",
   "execution_count": null,
   "id": "c9d32237",
   "metadata": {},
   "outputs": [],
   "source": []
  }
 ],
 "metadata": {
  "kernelspec": {
   "display_name": "Python 3",
   "language": "python",
   "name": "python3"
  },
  "language_info": {
   "codemirror_mode": {
    "name": "ipython",
    "version": 3
   },
   "file_extension": ".py",
   "mimetype": "text/x-python",
   "name": "python",
   "nbconvert_exporter": "python",
   "pygments_lexer": "ipython3",
   "version": "3.8.8"
  }
 },
 "nbformat": 4,
 "nbformat_minor": 5
}
