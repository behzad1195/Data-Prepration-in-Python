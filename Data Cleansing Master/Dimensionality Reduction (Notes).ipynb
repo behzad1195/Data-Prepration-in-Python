{
 "cells": [
  {
   "cell_type": "markdown",
   "id": "45e71fa3",
   "metadata": {},
   "source": [
    "### Curse of Dimensionality\n",
    "* If we have too many rows and columns it adversly affect the model performance. Hence reducing the features of our model could increase the performance.\n",
    "* ML algorithms fit on data with many input features, is referreed to as the **curse dimensionality**.\n",
    "#### Techniques for Dimensionality Reduction\n",
    "* There are many techniques for dimensionality here we look at the most common ones aka **Feature Selection** techniques that use scoring or statistical methods to select which features to keep and which to delete.\n",
    "    + **Wrapper Methods and Filter Methods** are the most common techniques that we discussed them in detial in *Feature Selection (Notes)* Notebook. \n",
    "    + **Matrix Factorization** methods can be used to reduce a datset matrix into its constituent parts. Methods such as *agent decomposition* and *singular value decomposition* are among most common methods for Matrix Factorization. The parts can be ranked and subset of those parts can be selected that best capture the sealan structure of matrix that best represent the dataset. The most common method of ranking these components is known as **Principle Component Analysis (PCA)**.  \n",
    "    + **Manifold Learning:** techniques for high dimensionality statistics can also be used for dimensionality reduction. These techniques are sometimes referred to as **manifold learning** and are used to create a low-dimensional projection of high-dimensional data. However often for the purpose of **data visualization**. Here you can look at the detailed documentation of various manifold learning techniques https://scikit-learn.org/stable/modules/manifold.html\n",
    "    + Deep learning neural networks can be constructed to perform dimensionality reduction. A popular approach is called **autoencoders**. more explanation https://machinelearningmastery.com/lstm-autoencoders/\n",
    "\n",
    "#### Linear Discriminant Analysis (LDA)\n",
    "* LDA is linear ML algorithms used in multi-class classification. It seeks to seprate or discriminate the samples in training dataset by class value. Specifically the model seeks to find a linear combinations of input variables that achieves the maximum sepration of the sample classes and the minimum sepration of the sample within each class. There are many ways to frame and solve LDA. Yet we should always standardized the data before feeding it to LDA. \n",
    "* for more detailed process look at 'Dimensionality Reduction' Notebook.\n",
    "\n",
    "#### Principal Component Analysis (PCA)\n",
    "* it is the most popular technique in ML for dimensionality reduction and it comes from the field of linear algebra. It helps us to delete the features prior to feeding them to the model. It is better to scaled your data before performing PCA especially when you have unscaled data. \n",
    "* for more detailed process look at 'Dimensionality Reduction' Notebook.\n",
    "    \n",
    "\n"
   ]
  },
  {
   "cell_type": "code",
   "execution_count": null,
   "id": "c55d4f65",
   "metadata": {},
   "outputs": [],
   "source": []
  }
 ],
 "metadata": {
  "kernelspec": {
   "display_name": "Python 3",
   "language": "python",
   "name": "python3"
  },
  "language_info": {
   "codemirror_mode": {
    "name": "ipython",
    "version": 3
   },
   "file_extension": ".py",
   "mimetype": "text/x-python",
   "name": "python",
   "nbconvert_exporter": "python",
   "pygments_lexer": "ipython3",
   "version": "3.8.8"
  }
 },
 "nbformat": 4,
 "nbformat_minor": 5
}
