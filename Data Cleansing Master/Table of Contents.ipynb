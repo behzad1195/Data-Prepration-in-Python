{
 "cells": [
  {
   "cell_type": "markdown",
   "id": "1c4b95f2",
   "metadata": {},
   "source": [
    "### 1. Foundations ->  Foundations (Notes).ipynb\n",
    "    + 1.1 Data cleansing\n",
    "    + 1.2 Feature Selections\n",
    "    + 1.3 Data Tranforms\n",
    "    + 1.4 Feature Engineering\n",
    "    + 1.5 Dimensionality Reduction\n",
    "    + 1.6 Data Leakage\n",
    "    + 1.7 Case Study: Data Leakage: Train/Test/Split -> (Data Cleansing Master Class - Data Preparation With Training and Testing Sets.ipynb)\n",
    "\n",
    "### 2. Data Cleansing -> Data Cleansing (Notes).ipynb\n",
    "    + 2.1 Identify columns that contains a single values -> (Sparse Column Identification and Removal.ipynb)\n",
    "    + 2.2 Identify column with few Values -> (Sparse Column Identification and Removal.ipynb)\n",
    "    + 2.3 Identify Columns with low variance -> (Sparse Column Identification and Removal.ipynb) \n",
    "    + 2.4 Identify and removes rows that contain duplicate data -> (Identify and Remove Duplicate Rows.ipynb)\n",
    "    + 2.5 Remove outliers - the STD approach (Outlier Removal - Standard Deviation Approach.ipynb)\n",
    "    + 2.6 Remove outliers - The IQR approach(Outlier Removal - IQR Approach.ipynb)\n",
    "    + 2.7 Automatic Outlier Detection -> (Automatic Outlier Detection.ipynb)\n",
    "    + 2.8 Mark missing values -> (Mark Missing Values.ipynb)\n",
    "    + 2.9 Remove rows with missing values -> (Remove Missing Values.ipynb)\n",
    "    + 2.10 Statistical imputation -> (Statistical Imputation with Simple Imputer.ipynb)\n",
    "    + 2.11 Simple imputer with model evaluation -> (Simple Imputer With Model Evaluation.ipynb)\n",
    "    + 2.12 Compare different statistical imputation strategites -> (Compare Different Imputed Statistics.ipynb)\n",
    "    + 2.13 Statistcal imputation with KNN -> (Statistical Imputation With KNN.ipynb)\n",
    "    + 2.14 Iterative Imputation -> (Iterative Imputer Data Transform.ipynb)\n",
    "    + 2.15 IterativeImputer and Model Evaluation -> (IterativeImputer and Model Evaluation.ipynb)\n",
    "    + 2.17 IterativeImputer and different imputaion order -> (IterativeImputer and Different Number of Iterations.ipynb)\n",
    "    \n",
    "### 3. Feature Selection -> Feature Selection (Notes).ipynb\n",
    "    + 3.1 Feature selection for categorical data -> (Categorical Feature Selection.ipynb)\n",
    "        - most common techinques are avialable within the above notebook. For more info about the specifics of each techinque look at (Feature Selection (Notes.ipynb)\n",
    "    + 3.2 Feature selection for numerical data -> (Choosing Numerical Input Features.ipynb)\n",
    "        - most common techinques are avialable within the above notebook. For more info about the specifics of each techinque look at (Feature Selection (Notes.ipynb) \n",
    "    + 3.3 Select features for numerical output -> (Select Features for Numerical Output.ipynb)\n",
    "    + 3.4 Select features using RFE -> (Selecting Features using RFE.ipynb)\n",
    "        - RFE methods for classification and regression as well as RFE Hyperparameters are avialable within the above notebook. For more info about the specifics of each techinque look at (Feature Selection (Notes.ipynb) \n",
    "    + 3.5 Feature importance score -> (Feature Importance (Notes).ipynb)\n",
    "    + 3.6 Feature importance scores: Linear Regression, Logistic Regression, CART, Random Forest, Permutation and feature selection with importance -> (Feature Importance Scores.ipynb)\n",
    "\n",
    "### 4. Data Transforms -> Data Transforms (Notes).ipynb\n",
    "    + 4.1 For numerical data: MinMaxScaler, Standardscaler, Robust Scaling. For categorical data: Ordinal Encoding, One-Hot Encoding, Dummy Variables -> (Data Rescaling .ipynb) \n",
    "        - For more info about the specifics of each techinque look at (Data Transforms (Notes).ipynb)\n",
    "    + 4.2 Power Transforms: Box-Cox, Yeo-Johnson -> (Power Transforms.ipynb)\n",
    "        - For more info about the specifics of each techinque look at (Data Transforms (Notes).ipynb)\n",
    "    + 4.3 Polynomial Features: Polynomial Feature Transform.ipynb \n",
    "        - For more info about the specifics of each techinque look at (Data Transforms (Notes).ipynb)\n",
    "\n",
    "### 5. Advanced Transforms - > Advanced Transforms (Notes).ipynb\n",
    "    + 5.1 Transforming different data types, the column transformer, automatically transform target variable, save model and data scaler, load and apply saved scaler -> (Advanced Transforms.ipynb)\n",
    "    \n",
    "### 6. Dimensionality Reduction -> Dimensionality Reduction.ipynb\n",
    "    + 6.1 Dimensionality Reduction methods: Linear Discriminant Analysis(LDA) and  Principal Component Analysis (PCA) -> (Dimensionality Reduction.ipynb)\n",
    "        - For more info about the specifics of each techinque look at (Dimensionality Reduction (Notes).ipynb)\n",
    "\n",
    "\n",
    "    "
   ]
  },
  {
   "cell_type": "code",
   "execution_count": null,
   "id": "ecf3b455",
   "metadata": {},
   "outputs": [],
   "source": []
  }
 ],
 "metadata": {
  "kernelspec": {
   "display_name": "Python 3",
   "language": "python",
   "name": "python3"
  },
  "language_info": {
   "codemirror_mode": {
    "name": "ipython",
    "version": 3
   },
   "file_extension": ".py",
   "mimetype": "text/x-python",
   "name": "python",
   "nbconvert_exporter": "python",
   "pygments_lexer": "ipython3",
   "version": "3.8.8"
  }
 },
 "nbformat": 4,
 "nbformat_minor": 5
}
