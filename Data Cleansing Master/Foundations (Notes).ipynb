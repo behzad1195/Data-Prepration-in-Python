{
 "cells": [
  {
   "cell_type": "markdown",
   "id": "61499b08",
   "metadata": {},
   "source": [
    "### Steps for The Machine Learning Pipeline\n",
    "1. Define Problem\n",
    "    * Classification / Regression\n",
    "    * EDA / Visualization\n",
    "2. Prepare Data\n",
    "    * Transforming the raw data into a form that is the best for model building\n",
    "3. Evaluate Models\n",
    "    * Design the robust test strategy\n",
    "    * create a baseline so you could compare your model accuracy with that\n",
    "    * choose the best features/metrics\n",
    "    * sampling techniques for train test split\n",
    "    * k-fold cross-validation\n",
    "    * hyperparameters tuning\n",
    "    * ensamble of models\n",
    "4. Finalize the Model\n",
    "    * models slection\n"
   ]
  },
  {
   "cell_type": "markdown",
   "id": "040c1e62",
   "metadata": {},
   "source": [
    "### Common Data Exploration Tasks\n",
    "1. Data Cleaning\n",
    "2. Feature Selection\n",
    "3. Data Tranforms\n",
    "4. Feature Engineering\n",
    "5. Dimensionality Reduction"
   ]
  },
  {
   "cell_type": "markdown",
   "id": "b866e434",
   "metadata": {},
   "source": [
    "### Choosing a Data Prepration Approach\n",
    "1. Gather Data\n",
    "2. Discuss Project\n",
    "3. Choose Inputs/Outputs\n",
    "4. Review the Data\n",
    "5. Summary Statistics\n",
    "6. Plots and Charts\n"
   ]
  },
  {
   "cell_type": "markdown",
   "id": "a4e8726e",
   "metadata": {},
   "source": [
    " ### 80% or more of ML is data prepration\n",
    "  for data prepration you must know:\n",
    "  1. Types of Data Prepration\n",
    "  2. The types of models for your problem\n",
    "  3. How to Configure Each Technique"
   ]
  },
  {
   "cell_type": "markdown",
   "id": "306b2679",
   "metadata": {},
   "source": [
    "### Data Preparation - Data Cleansing\n",
    "- Fixing systematic problems and errors of messy data  \n",
    "1. Basics : Redundant Samples, Redundant Features\n",
    "2. Ouliers : Extreme Values\n",
    "3. Missing: Mark, Impute\n"
   ]
  },
  {
   "cell_type": "markdown",
   "id": "e8e29af7",
   "metadata": {},
   "source": [
    "### Data Preparation - Feature Selection\n",
    "* **Feature Selection** refers to techniques for selecting a subset of input features that are most relevant to the target variable that is being predicted.\n",
    "* All things being equal, the simplest solution is often the best one. -William Occam\n",
    "#### Feature Selection\n",
    "1. Unupervised\n",
    "2. Supervised:\n",
    "    * Intrinsic ->Trees\n",
    "    * Wrapper Methods -> RFE\n",
    "    * Filter Methods -> Feature Importance / -> Stats\n",
    "3. Dimesionality Reduction"
   ]
  },
  {
   "cell_type": "markdown",
   "id": "8a6746d0",
   "metadata": {},
   "source": [
    "### Data Preparation - Feature Selection\n",
    "* **Data Transforms** are used to change the type or distribution of data variables\n",
    "#### Data Variable\n",
    "    1. Numeric: Integer/Float\n",
    "    2. Categorical: Nominal, Ordinal, Boolean\n",
    "#### Three Power Transforms\n",
    "    1. Discretization\n",
    "    2. Ordinal\n",
    "    3. One-Hot\n",
    "#### Standardize Vs. Normalize\n",
    "1. Normalization: Rescale values to a range of 0-1\n",
    "2. Standardization: Rescale data to mean of 0 and STD of 1 (Guassian Distribution) "
   ]
  },
  {
   "cell_type": "markdown",
   "id": "936e3e57",
   "metadata": {},
   "source": [
    "### Data Preparation - Feature Selection\n",
    "* **Featue Engineering** refers to the process of creating new input variables from the available data.\n"
   ]
  },
  {
   "cell_type": "markdown",
   "id": "1323117d",
   "metadata": {},
   "source": [
    "### Data Prepration - Dimensionality Reduction\n",
    "* Techniques for reducing the number of input variables in training data.\n",
    "* The **Curse of Dimesionality** can be defined as the difficulty of searching through the space gets a lot harder as you have more dimensions.\n",
    "* a. Martix Factorization Technique:\n",
    "    1. Principal Component Analysis (PCA/PCS)\n",
    "    2. Singular Value Decomposition (SVD)\n",
    "* Model Based\n",
    "    1.LDA\n",
    "* Mainfld Learning\n",
    "    1.SOM\n",
    "    2.tSNE"
   ]
  },
  {
   "cell_type": "markdown",
   "id": "a5d44439",
   "metadata": {},
   "source": [
    "### Data Prepration - Data Leakage\n",
    "* Data Leakage happens when data outside the training dataset is used to create the model\n",
    "* **Possible Leakage Approach**\n",
    "    1. Prepare Dataset\n",
    "    2. Split Dataset\n",
    "    3. Evaluate Model\n",
    "* In order to avoid the **Data Leakage**, the **Data prepration** must be fit **ONLY** on the training dataset.\n",
    "#### Fix Leakage Approach\n",
    "Split Dataset -> Fit Data Prepration on Training Dataset -> Apply Data Prepration o Training and Testing Dataset   -> Evaluate Model"
   ]
  },
  {
   "cell_type": "code",
   "execution_count": null,
   "id": "7ee30e01",
   "metadata": {},
   "outputs": [],
   "source": []
  }
 ],
 "metadata": {
  "kernelspec": {
   "display_name": "Python 3",
   "language": "python",
   "name": "python3"
  },
  "language_info": {
   "codemirror_mode": {
    "name": "ipython",
    "version": 3
   },
   "file_extension": ".py",
   "mimetype": "text/x-python",
   "name": "python",
   "nbconvert_exporter": "python",
   "pygments_lexer": "ipython3",
   "version": "3.8.8"
  }
 },
 "nbformat": 4,
 "nbformat_minor": 5
}
