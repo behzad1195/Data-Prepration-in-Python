{
 "cells": [
  {
   "cell_type": "markdown",
   "id": "dac28430",
   "metadata": {},
   "source": [
    "### Data Rescaling\n",
    "* Your preprocessed data may contain attributes with a mixture of scales. Many achine learning methods expect or ARE MORE EFFECTIVE IF THE DATA ATTRIBUTES HAVE THE SAME SCALE.\n",
    "* The two most important scaling techniques are **Standardization and Normalization**.\n",
    "    * **Normalization**: betweeon 0 and 1 (MinMaxScaler()). The normalization is done when our data has already a normal distribution. If not then use Standardization.\n",
    "    * **Standardization**: guassian/normal distribution with the mean of 0 and std of 1 \n",
    "* **Scaling Works Across Model Types**: many machine learning algorithems expect that scale of input and sometimes even output being equivalent (Such as Linear Regression and Logistic Regression)\n",
    "* **When to Scale Your Data**: It's difficult to know when your models will benefit from scaling. Hence creating secondary scaled datasets and testing each one is a good first step.\n",
    "* for detailed process look at 'Data Rescaling' notebook.\n",
    "### Robust Scaling Data\n",
    "* One approach to data scaling involves calculating the mean and standard deviation of each variable and using these values to scale the values to have a mean of 0 and STD of 1, a so called **standard normal probability distribution**.\n",
    "* one approach o standardizing input variables in the presence of outliers is to ignore the outliers from the calculation of the mean and standard deviation, then use the calculated values to scale the variable. This is called **robust standardization**. \n",
    "* Sometimes an input variable may have outlier values. These are values on the edge of distribution then may have a very low probability yet over represented for some reason. Outliers can skewed the probability. In this case using normalization and standardization may not work very well. One approach is to ignore the outliers from calculation of the Mean and STD and then used the calculated values to scale the variable. This can be achieved by calculating the mean of 50th percentile and then the 25th and 75th percentile. The robust scaler transformers available in *from sklearn.preprocessing import RobustScaler*  \n",
    "* for detailed process look at 'Data Rescaling' notebook.\n",
    "* We can go eveb one step further and change the range of our *RobustScaler* by default it will use IQR (75th -25th) but we can change its range and see if it works better especially for detecting the outlier. we can do that by for example below codes.\n",
    "    + *for value in [1,5,10,15,20,25,30]:*\n",
    "    + ''define the pipeline''\n",
    "        + *trans= RobustScaler(quantile_range=(value, 100 - value))*\n",
    "        + *model=KNeighboursClassifier()*\n",
    "        + *models[str(value)] = Pipeline(steps=[('t', trans), ('m', model)])*\n",
    "    + *return models*\n",
    "    "
   ]
  },
  {
   "cell_type": "markdown",
   "id": "7125fbf5",
   "metadata": {},
   "source": [
    "### Nominal and Ordinal Variables\n",
    "* Machine needs that all features would be in a numerical type so if we have some categorical data in string type. we need to change it to numerical. Two most popular technique are **Ordinal Encoding** and **One-Hot Encoding**  \n",
    "* Some categories may have relationship with each other such as natural ordering, this type of categorical variable called **Ordinal Variable**, because their values can be ordered or ranked. A numerical variable can be converted into the ordinal variable by dividing the range of numerical variable (binning) and then assigning each values into the bins. This is called **Dicretization**.\n",
    "* **Nomial** variables comprise a finite set of discrete values with **no ran-order relationship** between values.\n",
    "* Some algorithm such as **Decission Trees** can deal directly ith categorical variables and you don't need to convert them. But generaly is not recommendable to pass directly categorical variable to the ML models.\n",
    "* **Very Important Note:** if we have input data that are combination of categorical variable (assuming they all already changed to the number) and numerical variables. You can count them as numerical variable and then choose your Feature Selection technique. **OR** you can divide your data into the categorical and numerical then use feature techniques seprately on them. At the end you need to check the model accuracy of both approach and see which one works better."
   ]
  },
  {
   "cell_type": "markdown",
   "id": "c0b21bc7",
   "metadata": {},
   "source": [
    "### Ordinal Encoding\n",
    "* In ordinal encoding each category will take one value. Often integer values starting with 0. For some variable ordinal encoding may be enough. The Integer values have natural relationship with each other and the machine may be able to understand and harness a relationship. Hence it may create a realtionship between categorical variables where such an order may not exist. This can cause problems and **One-Hot Encoding** should be used instead.  \n",
    "* available in *from sklearn.preprocessing import OrdinalEncoder*\n",
    "* Ordinal Encoding works for single variable if you have more than one categorial variable then the **LabelEncoder** works better.\n",
    "\n"
   ]
  },
  {
   "cell_type": "markdown",
   "id": "1142e1b2",
   "metadata": {},
   "source": [
    "### One-Hot Encoding\n",
    "* when we deal with nomial variables we should use One-Hot Encoding\n"
   ]
  },
  {
   "cell_type": "markdown",
   "id": "a24885f8",
   "metadata": {},
   "source": [
    "### Dummy Variable Encoding \n",
    "* The One-Hot-Encoding creates a binary variable for each category. The problem is that presentation includes redundancy. For example if we have three categories like 'red', 'blue' and 'green' by One-Hot-Encoding we will have arrays like [1,0,0], [0,1,0], and [0,0,1] where we can have arrays like [1,0], [0,1], and [0,0] and reduce our features by at least one column and hence reduce the dimensionality. This is called **Dummy Variable Encoding** and the result is that we will have n-1 column where n is the number of categories.  \n",
    "* In addition to be slicely less redundant, the dummy variable representation is required for some models. For example in the case of Linear Regression models and other regression models that have bias term, a One-Hot-Encoding causes that input data to become singular meaning it can't be inverted and linear coefficients cannot be calculated using linear algebra. For these types of models **Dummy Variable Encoding** must be used instead.\n",
    "* we can make a dummy variable via One-Hot-Encoding by using **drop** arguments. by doing that we are determining which category become the one that assigned all the zero values called the base line. We can set this to 'first' so the first category is used. \n",
    "    + *encoder = OneHotEncoder(drop='first', sparse=False)*\n"
   ]
  },
  {
   "cell_type": "markdown",
   "id": "a1106ce5",
   "metadata": {},
   "source": [
    "### Make Distribution More Guassian (Make Distribution Great Again!!!!)\n",
    "* ML algorithems (especially Linear and Logistic Regression) assume that our variables follow a normal/guassian distribution. But there is a high chance that your data doesn't have normal distribution. Therefore you may achieve better performance if you could change their distribution to normal. For input variable it is better that we do that for both categorical and numerical data while for output only for numerical data.\n",
    "* Techniques such as  **Box-Cox**, or **Yeo-Johnson** will do this for us.\n",
    "#### Power Transforms\n",
    "* It refers to a class of techniques that use a power function (like a logarithm or exponent) to make a probability distribution of a variable Gaussian or more Gaussian like.\n",
    "    + **Box-Cox** technique can only be applied for data that are strictly positive it doesn't support data with zero and/or negative value in it. (so it doesn't work on sonar data cause it has zero in it.) In order to prevent this problem we can use MinMaxScaler for making the data strictly positive by changing the default range (0,1) to any range that is strictly positive such as range (1,2).\n",
    "        + *scaler = MinMaxScaler(feature_range = (1,2))*\n",
    "    + **Yeo-Johnson** unlike box-cox transform it can deal with zero and negative values. This help us to directly use it without scaling the data first. Yet scaling the data first would increase the efficiency of Yeo-Johnson as well.\n",
    "* for detailed process look at 'Power Transforms' notebook.\n",
    "* At the end of the day the only thing that can help us to choose between these method is our model performance. So automating these process always allow us to first save more time and second test various techniques and choose the best of them."
   ]
  },
  {
   "cell_type": "markdown",
   "id": "d42a50a2",
   "metadata": {},
   "source": [
    "### Polynomial Features\n",
    "* Transformers **like raising input variables to a power** can help to better expose the important relationship between input variables and the target variables. These features are called **Interaction Polynomial Features**. They allow us to use simple modeling algorithem as some of the complixity of the interpreting the input variables and the relationships pushed back on the data prepration stage. Some times these features can result in an improvement of our model although at the cost of thousend and even millions of addition of input variables.\n",
    "    + **Polynomial Features** are those features created by raising existing features to an exponent. Hence they are a **type of feature engineering**, the creation of new input features based on the existing features.   \n",
    "* for detailed process look at 'Polynomial Features Transfer' notebook."
   ]
  }
 ],
 "metadata": {
  "kernelspec": {
   "display_name": "Python 3.7.6 64-bit ('anaconda3': virtualenv)",
   "language": "python",
   "name": "python376jvsc74a57bd0c91f7af8b0a1300a723f811af57c1d3e795ab827a878028d684bfe43f494c5ed"
  },
  "language_info": {
   "codemirror_mode": {
    "name": "ipython",
    "version": 3
   },
   "file_extension": ".py",
   "mimetype": "text/x-python",
   "name": "python",
   "nbconvert_exporter": "python",
   "pygments_lexer": "ipython3",
   "version": "3.8.5"
  }
 },
 "nbformat": 4,
 "nbformat_minor": 5
}
