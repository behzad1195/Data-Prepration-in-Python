{
 "cells": [
  {
   "cell_type": "markdown",
   "id": "85e14226",
   "metadata": {},
   "source": [
    "### Feature Importance:\n",
    "* It refers to a class of techniue for assigning scores to input features to a predictive model that indicates the relative importance of each feature when making a prediction. Feature importance scores can be calulated for problems that involve that predict the numerical values(e.g. regressions). And those problems that involve predicting the class labels (e.g. classification), the scores are useful and can be used in a range of situations and predictive modeling such as:\n",
    "    + Better understanding the Data\n",
    "    + Better Understanding the Model\n",
    "    + Reducing Input Features\n",
    "* Features scores then can be fed to a **Wrapper Model**\n",
    "* There is no Best Feature Importance Approach. Each dataset and each model could use different techniques.\n",
    "* There are many approaches to define the importance of features. Here we look at three core types\n",
    "    + **1. Feature importance from model coefficients:**\n",
    "    + **2. Feature importance from decision trees:**\n",
    "    + **3. Feature importance from premutation testing:**\n",
    "    "
   ]
  },
  {
   "cell_type": "markdown",
   "id": "4c638e35",
   "metadata": {},
   "source": [
    "#### Feature Importance Score: Linear Regression (For Numerical Output)\n",
    "* we can use all types of regressions (e.g. linear regression, Logistic Regression, lasso, elastic band, and Ridge) and pass our splitted data and fit them into these models. The coefficients that will be find by these models later on give us the importance of each feature. And as always higher the coefficient higher the importance of a feature. Yet he judgement is always personal and data related.\n",
    "* for detailed codes look at 'Feature Importance Score' notebook.\n",
    "#### Feature Importance Score: Logistic Regression (For Categorical Output)\n",
    "* We should make sure that our features are scaled before fitting them to the model. Yet it works mostly on binary classification models.\n",
    "* for detailed codes look at 'Feature Importance Score' notebook.\n",
    "#### Feature Importance Score: Decission Trees Classification Regression  aka CART \n",
    "* Offer coefficient based on reduction in the criteria used to split the points. The same approach can be used by samples of decission trees such as random forest and stochastic gradient boosting algorithems.\n",
    "* if your output is categorical use DecessionTreeClassifier and for numerical output use DecissionTreeRegressor. Same goes for Random Forest and Gradient Boosting. \n",
    "* for detailed codes look at 'Feature Importance Score' notebook.\n",
    "#### Feature Importance Score: Permutation \n",
    "* Calculating the relative feature importance score that are independet from the model that we want to use. First the model fits into the dataset such as model that doesn't support naive feature importance score (such as KNeighborsregressor / For Numerical Output). Then the model used to make prediction on the dataset. Although the value of features/columns in the data scrambeld. This is repeated for each feature in the dataset. Then this whole process repeated many times (one time per feature). The result is the mean importance score for each input feature and a distribution of scores given the repeat. This approach can be used for regression or classification and requires as a performance metrics be choosen as the basis of importance score such as MSE for regression or accuracy for classification.\n",
    "* Permutation feature selection can be used via *from sklearn.inspection import permutation_importance \n",
    "* We use *from sklearn.feature_selection import SelectFromModel* to allow us use two different model one for feature selection and another for our own model \n",
    "* for detailed codes look at 'Feature Importance Score' notebook.\n"
   ]
  },
  {
   "cell_type": "code",
   "execution_count": null,
   "id": "8b101f1b",
   "metadata": {},
   "outputs": [],
   "source": []
  }
 ],
 "metadata": {
  "kernelspec": {
   "display_name": "Python 3",
   "language": "python",
   "name": "python3"
  },
  "language_info": {
   "codemirror_mode": {
    "name": "ipython",
    "version": 3
   },
   "file_extension": ".py",
   "mimetype": "text/x-python",
   "name": "python",
   "nbconvert_exporter": "python",
   "pygments_lexer": "ipython3",
   "version": "3.8.8"
  }
 },
 "nbformat": 4,
 "nbformat_minor": 5
}
